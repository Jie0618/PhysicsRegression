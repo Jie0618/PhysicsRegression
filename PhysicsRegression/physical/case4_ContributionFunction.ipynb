{
 "cells": [
  {
   "cell_type": "code",
   "execution_count": 1,
   "metadata": {},
   "outputs": [],
   "source": [
    "import os, sys\n",
    "sys.path.append(os.path.join(os.getcwd(), \"..\"))\n",
    "main_dir = os.path.abspath('..')\n",
    "os.chdir(main_dir)\n",
    "sys.path.append(main_dir)\n",
    "\n",
    "import numpy as np\n",
    "import pandas as pd\n",
    "from sklearn.model_selection import train_test_split\n",
    "from PhysicsRegression import PhyReg"
   ]
  },
  {
   "cell_type": "code",
   "execution_count": 2,
   "metadata": {},
   "outputs": [],
   "source": [
    "x_to_fit = []\n",
    "y_to_fit = []\n",
    "\n",
    "df = pd.read_csv(\"./physical/data/Fe X     175.263    2 -   31 3s2 3p5 2P0.5 - 3s2 3p4 3d 2D1.5.csv\",)\n",
    "\n",
    "temperature =   np.array(list(df[\"temperature\"])).  reshape((-1, 1)) / 1e6\n",
    "edensity =      np.array(list(df[\"eDensity\"])).     reshape((-1, 1)) / 1e10\n",
    "gofnt =         np.array(list(df[\"gofnt\"])).        reshape((-1, 1)) / 1e-25\n",
    "\n",
    "x = np.concatenate([temperature, edensity], axis=1)\n",
    "\n",
    "x_to_fit.append(x)\n",
    "y_to_fit.append(gofnt)\n",
    "\n",
    "x_train, x_test, y_train, y_test = train_test_split(x_to_fit[0], y_to_fit[0], test_size=0.15, random_state=2024)\n",
    "x_to_fit[0] = x_train\n",
    "y_to_fit[0] = y_train"
   ]
  },
  {
   "cell_type": "code",
   "execution_count": 3,
   "metadata": {},
   "outputs": [],
   "source": [
    "phyreg = PhyReg(\n",
    "    path = \"./model.pt\",\n",
    "    max_len=10000,\n",
    ")\n",
    "\n",
    "phyreg.fit(\n",
    "    x_to_fit, y_to_fit, \n",
    "    use_Divide=True, \n",
    "    use_MCTS=False, \n",
    "    use_GP=False, \n",
    "    use_pysr_init=True, \n",
    "    use_const_optimization=False,\n",
    "    verbose=False,\n",
    "    oracle_name=\"physical4\",\n",
    "    oracle_file=\"./physical/data/oracle_model_case4/\",\n",
    "    oracle_bs=64, oracle_lr=0.006, oracle_epoch=1000,\n",
    "    use_seperate_type=[\"id\"],\n",
    "    fixed_x_range=[0.8, 1.5],\n",
    "    save_oracle_model=True\n",
    ")"
   ]
  },
  {
   "cell_type": "code",
   "execution_count": 5,
   "metadata": {},
   "outputs": [
    {
     "name": "stdout",
     "output_type": "stream",
     "text": [
      "idx          : 0\n",
      "expr skeleton: C_0*(C_1 - C_2/(x_1 + C_3))*exp(C_4/(C_5*x_0 + 1)**C_6)/(x_0 - C_7)**C_8\n",
      "constants    : 260004.451 227.339 60.217 0.291 -103.763 0.706 3.255 0.036 22.905\n",
      "\n"
     ]
    }
   ],
   "source": [
    "best_gens = phyreg.best_gens\n",
    "best_gens[0][\"predicted_tree\"] = \"((-13.87596608242056 * 1/((x_1 + 0.8093545090589316))) + 29.20075389899055) * (260003.6830962341 * ((x_0 + -0.313873914775877)** -20.0 * exp((-35.65209487461984 * (((x_0 + 0.27176825338346017)** -2.0))))))\"\n",
    "\n",
    "best_gens = phyreg.constant_optimization(phyreg.best_gens, x_to_fit, y_to_fit)\n",
    "phyreg.express_skeleton(best_gens, use_sp=True)"
   ]
  },
  {
   "cell_type": "code",
   "execution_count": null,
   "metadata": {},
   "outputs": [],
   "source": []
  }
 ],
 "metadata": {
  "kernelspec": {
   "display_name": "yingjie",
   "language": "python",
   "name": "python3"
  },
  "language_info": {
   "codemirror_mode": {
    "name": "ipython",
    "version": 3
   },
   "file_extension": ".py",
   "mimetype": "text/x-python",
   "name": "python",
   "nbconvert_exporter": "python",
   "pygments_lexer": "ipython3",
   "version": "3.9.18"
  }
 },
 "nbformat": 4,
 "nbformat_minor": 2
}
