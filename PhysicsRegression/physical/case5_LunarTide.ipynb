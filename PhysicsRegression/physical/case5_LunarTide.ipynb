{
 "cells": [
  {
   "cell_type": "code",
   "execution_count": 1,
   "metadata": {},
   "outputs": [],
   "source": [
    "import os, sys\n",
    "sys.path.append(os.path.join(os.getcwd(), \"..\"))\n",
    "main_dir = os.path.abspath('..')\n",
    "os.chdir(main_dir)\n",
    "sys.path.append(main_dir)\n",
    "\n",
    "import numpy as np\n",
    "import sympy as sp\n",
    "import re, copy\n",
    "from sklearn.model_selection import train_test_split\n",
    "from PhysicsRegression import PhyReg"
   ]
  },
  {
   "cell_type": "code",
   "execution_count": 2,
   "metadata": {},
   "outputs": [],
   "source": [
    "num_xy = 10000\n",
    "\n",
    "x_to_fit = []\n",
    "y_to_fit = []\n",
    "\n",
    "data = np.load(\"./physical/data/To_QH_Data_0.npy\")\n",
    "E_a, E_r, LLT, L_Shell, MLT = data\n",
    "\n",
    "assert not np.any(np.isnan(E_a))\n",
    "assert not np.any(np.isnan(E_r))\n",
    "assert not np.any(np.isnan(LLT))\n",
    "assert not np.any(np.isnan(L_Shell))\n",
    "assert not np.any(np.isnan(MLT))\n",
    "\n",
    "LLT = LLT / 24 * 10\n",
    "MLT = MLT / 24 * 10\n",
    "\n",
    "#E_r / L_Shell, MLT, LLT\n",
    "x_to_fit.append(np.array([\n",
    "    L_Shell, MLT, LLT\n",
    "]).copy().T)\n",
    "y_to_fit.append(E_r.copy().reshape((-1, 1)))\n",
    "\n",
    "for i in range(len(x_to_fit)):\n",
    "    x_train, x_test, y_train, y_test = train_test_split(x_to_fit[i], y_to_fit[i], test_size=0.2, random_state=2024)\n",
    "    x_to_fit[i] = x_train[:num_xy]\n",
    "    y_to_fit[i] = y_train[:num_xy]\n",
    "\n",
    "np.random.seed(2024)"
   ]
  },
  {
   "cell_type": "code",
   "execution_count": null,
   "metadata": {},
   "outputs": [],
   "source": [
    "phyreg = PhyReg(\n",
    "    path = \"./model.pt\",\n",
    "    max_len=20000,\n",
    "    device = \"cuda:1\"\n",
    ")\n",
    "\n",
    "phyreg.fit(\n",
    "    x_to_fit, y_to_fit, \n",
    "    use_Divide=True, \n",
    "    use_MCTS=False, \n",
    "    use_GP=False, \n",
    "    use_pysr_init=True, \n",
    "    use_const_optimization=False,\n",
    "    verbose=False,\n",
    "    oracle_name=\"physical5\",\n",
    "    oracle_file=\"./physical/data/oracle_model_case5/\",\n",
    "    oracle_bs=512, oracle_lr=0.005, oracle_epoch=100,\n",
    "    use_seperate_type=[\"id\"],\n",
    "    variable_scale=[-3, 10],\n",
    "    save_oracle_model=True\n",
    ")"
   ]
  },
  {
   "cell_type": "code",
   "execution_count": 7,
   "metadata": {},
   "outputs": [
    {
     "name": "stdout",
     "output_type": "stream",
     "text": [
      "idx          : 0\n",
      "expr skeleton: C_0*(C_1*cos(C_2*x_1) - C_3)*(C_4*cos(C_5*x_2) - C_6)/((C_7*cos(C_8*x_1 - C_9) - C_10)*(C_11*x_0**2 - C_12*x_0 + C_13))\n",
      "constants    : -3361.9698 4.6951 1.2245 4.7611 1.4421 1.9287 56.5588 -18.9407 1.0335 8.9726 116.5368 1263.7229 885.3565 1067.1616\n",
      "\n"
     ]
    }
   ],
   "source": [
    "best_gens = phyreg.best_gens\n",
    "best_gens[0][\"predicted_tree\"] = \"(-3.1894375591915707 * (0.784759547399746 * (((4.1298484646401 * cos((2.4997675312042835 * x_1))) - 4.912904529233774) * (((0.04341174536403441 * cos((-1.2005308667478727 * x_2))) + 0.7404857642898277) * 1/(((0.4022589976976407 - (0.38562638992630527 * cos(((1.2554995236686266 * x_1) - 9.465159092397949)))) * (((5.066631736805239 * (x_0)**2) - (-5.079372953230348 * x_0)) + -3.774508668184111)))))))\"\n",
    "\n",
    "best_gens = phyreg.constant_optimization(phyreg.best_gens, x_to_fit, y_to_fit)\n",
    "phyreg.express_skeleton(best_gens, use_sp=True)"
   ]
  }
 ],
 "metadata": {
  "kernelspec": {
   "display_name": "yingjie",
   "language": "python",
   "name": "python3"
  },
  "language_info": {
   "codemirror_mode": {
    "name": "ipython",
    "version": 3
   },
   "file_extension": ".py",
   "mimetype": "text/x-python",
   "name": "python",
   "nbconvert_exporter": "python",
   "pygments_lexer": "ipython3",
   "version": "3.9.18"
  }
 },
 "nbformat": 4,
 "nbformat_minor": 2
}
