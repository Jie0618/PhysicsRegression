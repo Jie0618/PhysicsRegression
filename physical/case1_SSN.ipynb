{
 "cells": [
  {
   "cell_type": "code",
   "execution_count": 1,
   "metadata": {},
   "outputs": [],
   "source": [
    "import os, sys\n",
    "sys.path.append(os.path.join(os.getcwd(), \"..\"))\n",
    "main_dir = os.path.abspath('..')\n",
    "os.chdir(main_dir)\n",
    "sys.path.append(main_dir)\n",
    "\n",
    "import numpy as np\n",
    "from sklearn.model_selection import train_test_split\n",
    "from PhysicsRegression import PhyReg"
   ]
  },
  {
   "cell_type": "markdown",
   "metadata": {},
   "source": [
    "### Step1: Load SSN data\n",
    "\n",
    "We keep the data from year 1976 to 2019 (cycle 21 to 24) as testing data, and use the others as training data. We also select different amount of data for training to derive a consist conclusion."
   ]
  },
  {
   "cell_type": "code",
   "execution_count": 2,
   "metadata": {},
   "outputs": [],
   "source": [
    "x_to_fit = []\n",
    "y_to_fit = []\n",
    "\n",
    "np.random.seed(2024)\n",
    "\n",
    "with open(\"./data/physics_data/SN_m_tot_V2.0.txt\", \"r\") as fi:\n",
    "    context = fi.read().split(\"\\n\")\n",
    "context = [c.split() for c in context][:-1]\n",
    "times = np.array([float(c[2]) for c in context])\n",
    "nums = np.array([float(c[3]) for c in context])\n",
    "\n",
    "c_times = times[1280: 2730]\n",
    "c_nums =  nums [1280: 2730]\n",
    "min_times1 = np.min(c_times)\n",
    "max_times1 = np.max(c_times)\n",
    "c_times = (c_times - min_times1) / (max_times1 - min_times1) * 8\n",
    "x_to_fit.append(c_times.reshape((-1, 1)))\n",
    "y_to_fit.append(c_nums.reshape((-1, 1)))\n",
    "\n",
    "x_train, x_test, y_train, y_test = train_test_split(x_to_fit[0], y_to_fit[0], test_size=0.15, random_state=2024)\n",
    "x_to_fit[0] = x_train\n",
    "y_to_fit[0] = y_train"
   ]
  },
  {
   "cell_type": "markdown",
   "metadata": {},
   "source": [
    "### Step2: Inference with PhyReg"
   ]
  },
  {
   "cell_type": "markdown",
   "metadata": {},
   "source": [
    "We begin with the first dataset, i.e. from year 1855 to 1976."
   ]
  },
  {
   "cell_type": "code",
   "execution_count": 3,
   "metadata": {},
   "outputs": [
    {
     "name": "stdout",
     "output_type": "stream",
     "text": [
      "Training oracle Newral Network...\n",
      "Generating formula through End-to-End...\n",
      "Finished forward in 5.519245862960815 secs\n",
      "Removed 1/2 skeleton duplicata\n",
      "Removed 1/2 skeleton duplicata\n",
      "Back aggregating formulas...\n",
      "idx : 0\n",
      "expr: (72.24645455022423 + (0.019186979204434913 * (47.4668916494141 * (pi * ((sin((-0.8650148973530852 * x_0)))**2 * 1/(((sin((-0.4567643998031946 * x_0)))**2 + (cos((-0.23506788897781172 * x_0)))**2)))))))\n",
      "mse : 3666.172029435825\n",
      "\n"
     ]
    }
   ],
   "source": [
    "phyreg = PhyReg(\n",
    "    path = \"./model.pt\",\n",
    "    max_len=1000,\n",
    ")\n",
    "\n",
    "phyreg.fit(\n",
    "    x_to_fit[:1], y_to_fit[:1], \n",
    "    use_Divide=True, \n",
    "    use_MCTS=False, \n",
    "    use_GP=False, \n",
    "    use_pysr_init=True, \n",
    "    use_const_optimization=False,\n",
    "    verbose=True,\n",
    "    oracle_name=\"physical1\",\n",
    "    oracle_file=\"./physical/data/oracle_model_case1/\",\n",
    "    oracle_bs=36, oracle_lr=0.002, oracle_epoch=1000,\n",
    "    use_seperate_type=[\"id\"]\n",
    ")"
   ]
  },
  {
   "cell_type": "markdown",
   "metadata": {},
   "source": [
    "The best results is \"C_0 + C_1 * sin(C_2 * x_0) ** 2 / (sin(C_3 * x_0) ** 2 + cos(C_4 * x_0) ** 2)\"."
   ]
  },
  {
   "cell_type": "code",
   "execution_count": 4,
   "metadata": {},
   "outputs": [
    {
     "name": "stdout",
     "output_type": "stream",
     "text": [
      "idx : 0\n",
      "expr: 72.2464545502242 + 2.86119376905125*sin(0.8650148973530852*x_0)**2/(sin(0.4567643998031946*x_0)**2 + cos(0.23506788897781172*x_0)**2)\n",
      "mse : 3666.172029435825\n",
      "\n",
      "idx          : 0\n",
      "expr skeleton: C_0 + C_1*sin(C_2*x_0)**2/(sin(C_3*x_0)**2 + cos(C_4*x_0)**2)\n",
      "constants    : 72.246 2.861 0.865 0.457 0.235\n",
      "\n"
     ]
    }
   ],
   "source": [
    "best_gens = phyreg.best_gens\n",
    "expr = str(best_gens[0][\"predicted_tree\"])\n",
    "expr = expr.replace(\"x_0\", f\"(x_0 - {min_times1}) / {(max_times1 - min_times1)/8}\")\n",
    "\n",
    "phyreg.express_best_gens(best_gens, use_sp=True)\n",
    "phyreg.express_skeleton(best_gens, use_sp=True)"
   ]
  },
  {
   "cell_type": "markdown",
   "metadata": {},
   "source": [
    "Let's modify a few coefficient and optimized the constants:"
   ]
  },
  {
   "cell_type": "code",
   "execution_count": 5,
   "metadata": {},
   "outputs": [
    {
     "name": "stdout",
     "output_type": "stream",
     "text": [
      "idx : 0\n",
      "expr: 289.216021624957*sin(2.369710596405354*x_0)**2/(3.33509227650824*sin(2.348307982624872*x_0)**2 + 0.0869706869492789*cos(0.24026241796677425*x_0)**2 + 0.0282045931046195)\n",
      "mse : 3762.535513899661\n",
      "\n",
      "idx          : 0\n",
      "expr skeleton: C_0*sin(C_1*x_0)**2/(C_2*sin(C_3*x_0)**2 + C_4*cos(C_5*x_0)**2 + C_6)\n",
      "constants    : 289.216 2.37 3.335 2.348 0.087 0.24 0.028\n",
      "\n"
     ]
    }
   ],
   "source": [
    "best_gens[0][\"predicted_tree\"] = \"280.86119376905125*sin(0.8650148973530852*x_0)**2/(1.0 + 1.0*sin(0.4567643998031946*x_0)**2 + 1.0*cos(0.23506788897781172*x_0)**2)\"\n",
    "phyreg.params.num_bfgs = 100\n",
    "best_gens = phyreg.constant_optimization(best_gens, x_to_fit, y_to_fit)\n",
    "phyreg.express_best_gens(best_gens, use_sp=True)\n",
    "phyreg.express_skeleton(best_gens, use_sp=True)"
   ]
  },
  {
   "cell_type": "code",
   "execution_count": null,
   "metadata": {},
   "outputs": [],
   "source": []
  }
 ],
 "metadata": {
  "kernelspec": {
   "display_name": "yingjie",
   "language": "python",
   "name": "python3"
  },
  "language_info": {
   "codemirror_mode": {
    "name": "ipython",
    "version": 3
   },
   "file_extension": ".py",
   "mimetype": "text/x-python",
   "name": "python",
   "nbconvert_exporter": "python",
   "pygments_lexer": "ipython3",
   "version": "3.9.18"
  }
 },
 "nbformat": 4,
 "nbformat_minor": 2
}
