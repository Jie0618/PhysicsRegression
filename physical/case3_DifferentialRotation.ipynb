{
 "cells": [
  {
   "cell_type": "code",
   "execution_count": 1,
   "metadata": {},
   "outputs": [],
   "source": [
    "import os, sys\n",
    "sys.path.append(os.path.join(os.getcwd(), \"..\"))\n",
    "main_dir = os.path.abspath('..')\n",
    "os.chdir(main_dir)\n",
    "sys.path.append(main_dir)\n",
    "\n",
    "import numpy as np\n",
    "import pandas as pd\n",
    "from sklearn.model_selection import train_test_split\n",
    "from PhysicsRegression import PhyReg"
   ]
  },
  {
   "cell_type": "markdown",
   "metadata": {},
   "source": [
    "### Step1: load solar Differential Rotation data\n",
    "\n",
    "The solar Differential Rotation data contains 34 datapoints, we use 28 of them to train."
   ]
  },
  {
   "cell_type": "code",
   "execution_count": 2,
   "metadata": {},
   "outputs": [],
   "source": [
    "x_to_fit = []\n",
    "y_to_fit = []\n",
    "\n",
    "df = pd.read_csv(\"./physical/data/solarDifferentialRotation.csv\")\n",
    "latitude = np.array(list(df[\"Latitude\"])) / 180 * np.pi + np.pi / 2\n",
    "speed = np.array(list(df[\"Two-day_Lag_mean\"]))\n",
    "\n",
    "x_to_fit.append(latitude.reshape((-1, 1)))\n",
    "y_to_fit.append(speed.reshape((-1, 1)))\n",
    "\n",
    "x_train, x_test, y_train, y_test = train_test_split(x_to_fit[0], y_to_fit[0], test_size=0.2, random_state=0)\n",
    "x_to_fit.pop(0)\n",
    "y_to_fit.pop(0)\n",
    "for num_xypair in range(3, 28):\n",
    "    x_to_fit.append(x_train[:num_xypair])\n",
    "    y_to_fit.append(y_train[:num_xypair])"
   ]
  },
  {
   "cell_type": "markdown",
   "metadata": {},
   "source": [
    "### Step2: inference with PhyReg"
   ]
  },
  {
   "cell_type": "code",
   "execution_count": 3,
   "metadata": {},
   "outputs": [
    {
     "name": "stdout",
     "output_type": "stream",
     "text": [
      "Training oracle Newral Network...\n",
      "Generating formula through End-to-End...\n",
      "Finished forward in 1.974703073501587 secs\n",
      "Removed 1/2 skeleton duplicata\n",
      "Removed 1/2 skeleton duplicata\n",
      "Back aggregating formulas...\n",
      "idx : 0\n",
      "expr: (-0.18152263449052095 + (0.9411572573526638 * ((1.172645068243361 * sin(x_0)) + 2.112878603788687)))\n",
      "mse : 0.0008033028493785676\n",
      "\n"
     ]
    }
   ],
   "source": [
    "phyreg = PhyReg(\n",
    "    path = \"./model.pt\",\n",
    "    max_len=1000,\n",
    ")\n",
    "\n",
    "phyreg.fit(\n",
    "    x_to_fit[-1:], y_to_fit[-1:], \n",
    "    use_Divide=True, \n",
    "    use_MCTS=False, \n",
    "    use_GP=False, \n",
    "    use_pysr_init=True, \n",
    "    use_const_optimization=False,\n",
    "    verbose=True,\n",
    "    oracle_name=\"physical3\",\n",
    "    oracle_file=\"./physical/data/oracle_model_case3/\",\n",
    "    oracle_bs=4, oracle_lr=0.0002, oracle_epoch=100,\n",
    "    use_seperate_type=[\"id\"],\n",
    "    save_oracle_model=True\n",
    ")"
   ]
  },
  {
   "cell_type": "code",
   "execution_count": 4,
   "metadata": {},
   "outputs": [
    {
     "name": "stdout",
     "output_type": "stream",
     "text": [
      "idx          : 0\n",
      "expr skeleton: C_0*sin(x_0) + C_1\n",
      "constants    : 1.104 1.807\n",
      "\n"
     ]
    }
   ],
   "source": [
    "phyreg.express_skeleton(phyreg.best_gens, use_sp=True)"
   ]
  },
  {
   "cell_type": "code",
   "execution_count": null,
   "metadata": {},
   "outputs": [],
   "source": []
  }
 ],
 "metadata": {
  "kernelspec": {
   "display_name": "yingjie",
   "language": "python",
   "name": "python3"
  },
  "language_info": {
   "codemirror_mode": {
    "name": "ipython",
    "version": 3
   },
   "file_extension": ".py",
   "mimetype": "text/x-python",
   "name": "python",
   "nbconvert_exporter": "python",
   "pygments_lexer": "ipython3",
   "version": "3.9.18"
  }
 },
 "nbformat": 4,
 "nbformat_minor": 2
}
