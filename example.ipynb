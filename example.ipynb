{
 "cells": [
  {
   "cell_type": "code",
   "execution_count": 1,
   "metadata": {},
   "outputs": [],
   "source": [
    "import numpy as np\n",
    "from PhysicsRegression import PhyReg"
   ]
  },
  {
   "cell_type": "code",
   "execution_count": 2,
   "metadata": {},
   "outputs": [],
   "source": [
    "phyreg = PhyReg(\n",
    "    path = \"./model.pt\"\n",
    ")"
   ]
  },
  {
   "cell_type": "markdown",
   "metadata": {},
   "source": [
    "## First try an toy example with Divide-and-Conquer Strategy"
   ]
  },
  {
   "cell_type": "code",
   "execution_count": null,
   "metadata": {},
   "outputs": [
    {
     "name": "stdout",
     "output_type": "stream",
     "text": [
      "Training oracle Newral Network...\n",
      "Generating formula through End-to-End...\n",
      "Finished forward in 3.027332305908203 secs\n",
      "Removed 1/2 skeleton duplicata\n",
      "Removed 1/2 skeleton duplicata\n",
      "Removed 1/2 skeleton duplicata\n",
      "Removed 1/2 skeleton duplicata\n",
      "Removed 1/2 skeleton duplicata\n",
      "Removed 1/2 skeleton duplicata\n",
      "Removed 1/2 skeleton duplicata\n",
      "Removed 1/2 skeleton duplicata\n",
      "Removed 1/2 skeleton duplicata\n",
      "Removed 1/2 skeleton duplicata\n",
      "[{'refinement_type': 'NoRef', 'predicted_tree': (2.27 mul (x_0 mul x_1)), 'time': 3.0285298824310303, 'relabed_predicted_tree': (2.27 mul (x_0 mul x_1))}, {'refinement_type': 'NoRef', 'predicted_tree': ((2.27 mul (x_0 mul x_1)) add -0.055940000000000004), 'time': 3.0359349250793457, 'relabed_predicted_tree': ((2.27 mul (x_0 mul x_1)) add -0.055940000000000004)}, {'refinement_type': 'NoRef', 'predicted_tree': (3.064 mul x_0), 'time': 3.067373275756836, 'relabed_predicted_tree': (3.064 mul x_0)}, {'refinement_type': 'NoRef', 'predicted_tree': (3.458 mul x_0), 'time': 3.0716023445129395, 'relabed_predicted_tree': (3.458 mul x_0)}, {'refinement_type': 'NoRef', 'predicted_tree': (1 mul inv((2 mul (x_0 mul (x_1 sub 0.025))))), 'time': 3.075730800628662, 'relabed_predicted_tree': (1 mul inv((2 mul (x_0 mul (x_1 sub 0.025)))))}, {'refinement_type': 'NoRef', 'predicted_tree': (0.3267 mul inv(x_0)), 'time': 3.1545188426971436, 'relabed_predicted_tree': (0.3267 mul inv(x_0))}, {'refinement_type': 'NoRef', 'predicted_tree': (0.3007 mul inv(x_0)), 'time': 3.159101724624634, 'relabed_predicted_tree': (0.3007 mul inv(x_0))}, {'refinement_type': 'NoRef', 'predicted_tree': (0.5 mul ((x_0)**2 mul ((x_1)**2 mul ((10.0 mul x_1) add 10.0)))), 'time': 3.1634485721588135, 'relabed_predicted_tree': (0.5 mul ((x_0)**2 mul ((x_1)**2 mul ((10.0 mul x_1) add 10.0))))}, {'refinement_type': 'NoRef', 'predicted_tree': (9.211 mul (x_0)**2), 'time': 3.181225538253784, 'relabed_predicted_tree': (9.211 mul (x_0)**2)}, {'refinement_type': 'NoRef', 'predicted_tree': (11.51 mul (x_0)**2), 'time': 3.185518264770508, 'relabed_predicted_tree': (11.51 mul (x_0)**2)}]\n",
      "Back aggregating formulas...\n",
      "idx : 0\n",
      "expr: (2.2 * (x_0 * x_1))\n",
      "mse : 2.1385574250724475e-31\n",
      "\n"
     ]
    }
   ],
   "source": [
    "x = np.random.random((100, 2)) * 3\n",
    "y = 2.2 * x[:, 0] * x[:, 1]\n",
    "\n",
    "phyreg.fit(x, y, use_Divide=True, use_MCTS=False, use_GP=False,\n",
    "           save_oracle_model=False, oracle_name=\"demo\")"
   ]
  },
  {
   "cell_type": "markdown",
   "metadata": {},
   "source": [
    "## Use the following code to try on your specified data.\n",
    "\n",
    "- Modify the `oracle_name` parameter to point to another directory in `Oracle_model` for different symbolic regression problems\n",
    "\n",
    "- Set `save_oracle_model` to be True if you wish to save to weight of OracleNN"
   ]
  },
  {
   "cell_type": "code",
   "execution_count": null,
   "metadata": {},
   "outputs": [],
   "source": [
    "# your specific data\n",
    "\n",
    "# x = ...\n",
    "# y = ...\n",
    "\n",
    "# assert x.shape[0] == y.shaoe[0] and len(y.shape) == 1\n",
    "\n",
    "# phyreg.fit(x, y, use_Divide=True, use_MCTS=False, use_GP=False,\n",
    "#            save_oracle_model=False, oracle_name=\"demo1\")"
   ]
  },
  {
   "cell_type": "markdown",
   "metadata": {},
   "source": [
    "## You can then utilize MCTS and GP algorism to further refine the results"
   ]
  },
  {
   "cell_type": "code",
   "execution_count": null,
   "metadata": {},
   "outputs": [
    {
     "name": "stdout",
     "output_type": "stream",
     "text": [
      "Training oracle Newral Network...\n",
      "Generating formula through End-to-End...\n",
      "Finished forward in 1.788586139678955 secs\n",
      "Removed 1/2 skeleton duplicata\n",
      "Removed 1/2 skeleton duplicata\n",
      "Removed 1/2 skeleton duplicata\n",
      "Removed 1/2 skeleton duplicata\n",
      "Removed 1/2 skeleton duplicata\n",
      "Removed 1/2 skeleton duplicata\n",
      "Removed 1/2 skeleton duplicata\n",
      "Removed 1/2 skeleton duplicata\n",
      "Removed 1/2 skeleton duplicata\n",
      "Removed 1/2 skeleton duplicata\n",
      "[{'refinement_type': 'NoRef', 'predicted_tree': (2.27 mul (x_0 mul x_1)), 'time': 1.7907392978668213, 'relabed_predicted_tree': (2.27 mul (x_0 mul x_1))}, {'refinement_type': 'NoRef', 'predicted_tree': ((2.206 mul (x_0 mul x_1)) add -0.006562999999999999), 'time': 1.7968616485595703, 'relabed_predicted_tree': ((2.206 mul (x_0 mul x_1)) add -0.006562999999999999)}, {'refinement_type': 'NoRef', 'predicted_tree': ((4.0 mul x_0) add -0.01128), 'time': 1.803464412689209, 'relabed_predicted_tree': ((4.0 mul x_0) add -0.01128)}, {'refinement_type': 'NoRef', 'predicted_tree': (2.777 mul x_0), 'time': 1.810645580291748, 'relabed_predicted_tree': (2.777 mul x_0)}, {'refinement_type': 'NoRef', 'predicted_tree': (1 mul inv((2 mul (x_0 mul x_1)))), 'time': 1.8146772384643555, 'relabed_predicted_tree': (1 mul inv((2 mul (x_0 mul x_1))))}, {'refinement_type': 'NoRef', 'predicted_tree': (0.2594 mul inv(x_0)), 'time': 1.8274645805358887, 'relabed_predicted_tree': (0.2594 mul inv(x_0))}, {'refinement_type': 'NoRef', 'predicted_tree': (0.37820000000000004 mul inv(x_0)), 'time': 1.8318114280700684, 'relabed_predicted_tree': (0.37820000000000004 mul inv(x_0))}, {'refinement_type': 'NoRef', 'predicted_tree': (4.683 mul ((x_0)**2 mul (x_1)**2)), 'time': 1.836111068725586, 'relabed_predicted_tree': (4.683 mul ((x_0)**2 mul (x_1)**2))}, {'refinement_type': 'NoRef', 'predicted_tree': (16.0 mul ((x_0 add 0.05))**2), 'time': 1.8408074378967285, 'relabed_predicted_tree': (16.0 mul ((x_0 add 0.05))**2)}, {'refinement_type': 'NoRef', 'predicted_tree': (7.423 mul (x_0)**2), 'time': 1.8497257232666016, 'relabed_predicted_tree': (7.423 mul (x_0)**2)}]\n",
      "Back aggregating formulas...\n",
      "idx : 0\n",
      "expr: sqrt((4.840000000000001 * ((x_0)**2 * (x_1)**2)))\n",
      "mse : 4.53790020908951e-31\n",
      "\n",
      "Refining formula through MCTS...\n",
      "idx : 0\n",
      "expr: (2.2 * sqrt(((x_0)**2 * (x_1)**2)))\n",
      "mse : 4.53790020908951e-31\n",
      "\n",
      "Refining formula through GP...\n",
      "idx : 0\n",
      "expr: sqrt((4.840000000000001 * ((x_0)**2 * (x_1)**2)))\n",
      "mse : 4.53790020908951e-31\n",
      "\n",
      "Refining constants...\n",
      "idx : 0\n",
      "expr: sqrt((4.840000000000001 * ((x_0)**2 * (x_1)**2)))\n",
      "mse : 4.53790020908951e-31\n",
      "\n"
     ]
    }
   ],
   "source": [
    "x = np.random.random((100, 2)) * 3\n",
    "y = 2.2 * x[:, 0] * x[:, 1]\n",
    "\n",
    "phyreg.fit(x, y, use_Divide=True, use_MCTS=True, use_GP=True, use_pysr_init=True, use_const_optimization=True,\n",
    "           save_oracle_model=False, oracle_name=\"demo\")"
   ]
  },
  {
   "cell_type": "markdown",
   "metadata": {},
   "source": [
    "## Physics hints includes physics units, prior complexity, unarys, constants can also be included within the searching process."
   ]
  },
  {
   "cell_type": "code",
   "execution_count": null,
   "metadata": {},
   "outputs": [
    {
     "name": "stdout",
     "output_type": "stream",
     "text": [
      "Training oracle Newral Network...\n",
      "Generating formula through End-to-End...\n",
      "Finished forward in 4.378088474273682 secs\n",
      "Removed 1/2 skeleton duplicata\n",
      "Removed 1/2 skeleton duplicata\n",
      "Removed 1/2 skeleton duplicata\n",
      "Removed 1/2 skeleton duplicata\n",
      "Removed 1/2 skeleton duplicata\n",
      "Removed 1/2 skeleton duplicata\n",
      "Removed 1/2 skeleton duplicata\n",
      "Removed 1/2 skeleton duplicata\n",
      "Removed 1/2 skeleton duplicata\n",
      "[{'refinement_type': 'NoRef', 'predicted_tree': (2.061 mul (x_0 mul (x_1 mul (1 add (sin(1))**2)))), 'time': 4.380510091781616, 'relabed_predicted_tree': (2.061 mul (x_0 mul (x_1 mul (1 add (sin(1))**2))))}, {'refinement_type': 'NoRef', 'predicted_tree': ((2.5 mul (x_0 mul (x_1 mul (sin(1) mul inv(sqrt((cos(1))**2)))))) add -0.006562999999999999), 'time': 4.394014358520508, 'relabed_predicted_tree': ((2.5 mul (x_0 mul (x_1 mul (sin(1) mul inv(sqrt((cos(1))**2)))))) add -0.006562999999999999)}, {'refinement_type': 'NoRef', 'predicted_tree': ((10.0 mul (x_0 mul (sin(1) mul inv((1 add cos(1)))))) add -0.00874), 'time': 4.4065611362457275, 'relabed_predicted_tree': ((10.0 mul (x_0 mul (sin(1) mul inv((1 add cos(1)))))) add -0.00874)}, {'refinement_type': 'NoRef', 'predicted_tree': (10.0 mul (x_0 mul (sin(1) mul inv((-1 add cos(1)))))), 'time': 4.416068077087402, 'relabed_predicted_tree': (10.0 mul (x_0 mul (sin(1) mul inv((-1 add cos(1))))))}, {'refinement_type': 'NoRef', 'predicted_tree': (0.5 mul inv((x_0 mul (x_1 mul ((0.5 mul ((sin(x_1))**2 mul (cos((0.5 mul x_2)))**2)) add 0.5))))), 'time': 4.426765441894531, 'relabed_predicted_tree': (0.5 mul inv((x_0 mul (x_1 mul ((0.5 mul ((sin(x_1))**2 mul (cos((0.5 mul x_2)))**2)) add 0.5)))))}, {'refinement_type': 'NoRef', 'predicted_tree': (0.25 mul inv((x_0 mul sin((0.5 mul x_1))))), 'time': 4.43743371963501, 'relabed_predicted_tree': (0.25 mul inv((x_0 mul sin((0.5 mul x_1)))))}, {'refinement_type': 'NoRef', 'predicted_tree': (0.2 mul inv((x_0 mul (-1 add (0.5 mul (sin(1))**2))))), 'time': 4.441796064376831, 'relabed_predicted_tree': (0.2 mul inv((x_0 mul (-1 add (0.5 mul (sin(1))**2)))))}, {'refinement_type': 'NoRef', 'predicted_tree': (10.0 mul ((x_0)**2 mul ((x_1)**2 mul (sin(1) mul inv((1 add (cos((0.5 mul x_1)))**2)))))), 'time': 4.452296495437622, 'relabed_predicted_tree': (10.0 mul ((x_0)**2 mul ((x_1)**2 mul (sin(1) mul inv((1 add (cos((0.5 mul x_1)))**2))))))}, {'predicted_tree': None, 'refinement_type': 'NoRef', 'time': None, 'perplexity': None, 'relabed_predicted_tree': None}, {'refinement_type': 'NoRef', 'predicted_tree': (10.0 mul ((x_0)**2 mul (1 add (sin(1))**2))), 'time': 4.513650894165039, 'relabed_predicted_tree': (10.0 mul ((x_0)**2 mul (1 add (sin(1))**2)))}]\n",
      "Back aggregating formulas...\n",
      "idx : 0\n",
      "expr: (2.264225072691254 * (x_0 * (x_1 * 0.9716348549153657)))\n",
      "mse : 9.44780779682704e-26\n",
      "\n"
     ]
    }
   ],
   "source": [
    "phyreg.fit(\n",
    "        x, y, use_Divide=True, use_MCTS=False, use_GP=False, \n",
    "        units = [\"kg1m1s0T0V0\", \"kg0m0s2T-1V-1\", \"kg1m1s2T-1V-2\"],\n",
    "        complexitys = 8,\n",
    "        unarys = [\"sin\", \"cos\"],\n",
    "        consts = [[2.1, \"kg0m0s0T0V-1\"]],\n",
    "        save_oracle_model=False, oracle_name=\"demo\"\n",
    "    )"
   ]
  }
 ],
 "metadata": {
  "kernelspec": {
   "display_name": "yingjie",
   "language": "python",
   "name": "python3"
  },
  "language_info": {
   "codemirror_mode": {
    "name": "ipython",
    "version": 3
   },
   "file_extension": ".py",
   "mimetype": "text/x-python",
   "name": "python",
   "nbconvert_exporter": "python",
   "pygments_lexer": "ipython3",
   "version": "3.9.18"
  }
 },
 "nbformat": 4,
 "nbformat_minor": 2
}
